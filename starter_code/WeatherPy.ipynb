{
 "cells": [
  {
   "cell_type": "markdown",
   "metadata": {},
   "source": [
    "# WeatherPy\n",
    "----\n",
    "\n",
    "#### Note\n",
    "* Instructions have been included for each segment. You do not have to follow them exactly, but they are included to help you think through the steps."
   ]
  },
  {
   "cell_type": "code",
   "execution_count": 1,
   "metadata": {
    "scrolled": true
   },
   "outputs": [],
   "source": [
    "# Dependencies and Setup\n",
    "import matplotlib.pyplot as plt\n",
    "import pandas as pd\n",
    "import numpy as np\n",
    "import requests\n",
    "import time\n",
    "from scipy.stats import linregress\n",
    "\n",
    "# Import API key\n",
    "from config import weather_api_key\n",
    "\n",
    "# Incorporated citipy to determine city based on latitude and longitude\n",
    "from citipy import citipy\n",
    "\n",
    "# Output File (CSV)\n",
    "output_data_file = \"output_data/cities.csv\"\n",
    "\n",
    "# Range of latitudes and longitudes\n",
    "lat_range = (-90, 90)\n",
    "lng_range = (-180, 180)"
   ]
  },
  {
   "cell_type": "markdown",
   "metadata": {},
   "source": [
    "## Generate Cities List"
   ]
  },
  {
   "cell_type": "code",
   "execution_count": 2,
   "metadata": {},
   "outputs": [
    {
     "data": {
      "text/plain": [
       "622"
      ]
     },
     "execution_count": 2,
     "metadata": {},
     "output_type": "execute_result"
    }
   ],
   "source": [
    "# List for holding lat_lngs and cities\n",
    "lat_lngs = []\n",
    "cities = []\n",
    "\n",
    "# Create a set of random lat and lng combinations\n",
    "lats = np.random.uniform(lat_range[0], lat_range[1], size=1500)\n",
    "lngs = np.random.uniform(lng_range[0], lng_range[1], size=1500)\n",
    "lat_lngs = zip(lats, lngs)\n",
    "\n",
    "# Identify nearest city for each lat, lng combination\n",
    "for lat_lng in lat_lngs:\n",
    "    city = citipy.nearest_city(lat_lng[0], lat_lng[1]).city_name\n",
    "    \n",
    "    # If the city is unique, then add it to a our cities list\n",
    "    if city not in cities:\n",
    "        cities.append(city)\n",
    "\n",
    "# Print the city count to confirm sufficient count\n",
    "len(cities)"
   ]
  },
  {
   "cell_type": "markdown",
   "metadata": {},
   "source": [
    "### Perform API Calls\n",
    "* Perform a weather check on each city using a series of successive API calls.\n",
    "* Include a print log of each city as it'sbeing processed (with the city number and city name).\n"
   ]
  },
  {
   "cell_type": "code",
   "execution_count": 3,
   "metadata": {},
   "outputs": [
    {
     "name": "stdout",
     "output_type": "stream",
     "text": [
      "{'coord': {'lon': 14.2845, 'lat': -22.116}, 'weather': [{'id': 800, 'main': 'Clear', 'description': 'clear sky', 'icon': '01n'}], 'base': 'stations', 'main': {'temp': 64, 'feels_like': 66.54, 'temp_min': 64, 'temp_max': 64, 'pressure': 1011, 'humidity': 90}, 'visibility': 10000, 'wind': {'speed': 1.99, 'deg': 284, 'gust': 3}, 'clouds': {'all': 0}, 'dt': 1612658544, 'sys': {'type': 3, 'id': 2012545, 'country': 'NA', 'sunrise': 1612673271, 'sunset': 1612719973}, 'timezone': 7200, 'id': 3356832, 'name': 'Henties Bay', 'cod': 200}\n"
     ]
    }
   ],
   "source": [
    "#print(cities[-1])\n",
    "# print(city)\n",
    "url = \"http://api.openweathermap.org/data/2.5/weather?\"\n",
    "city_q= \"henties bay\"\n",
    "unit= \"imperial\"\n",
    "query_url= f\"{url}q={city_q}&units={unit}&appid={weather_api_key}\"\n",
    "response= requests.get(query_url).json()\n",
    "print(response)\n",
    "# print(response['main']['temp'])\n",
    "# print(response['main']['humidity'])\n",
    "# print(response['wind']['speed'])\n",
    "# print(response['clouds']['all'])\n",
    "# print(response['id'])"
   ]
  },
  {
   "cell_type": "code",
   "execution_count": 5,
   "metadata": {},
   "outputs": [
    {
     "name": "stdout",
     "output_type": "stream",
     "text": [
      "Recording Record of 1 of Set 1: Muisne \n",
      "Recording Record of 2 of Set 1: Acheng \n",
      "Recording Record of 3 of Set 1: Punta Arenas \n",
      "Recording Record of 4 of Set 1: Lavrentiya \n",
      "City not found. Skipping...\n",
      "Recording Record of 5 of Set 1: Sørland \n",
      "Recording Record of 6 of Set 1: Barrow \n",
      "Recording Record of 7 of Set 1: Santiago \n",
      "Recording Record of 8 of Set 1: Gwadar \n",
      "Recording Record of 9 of Set 1: Rikitea \n",
      "Recording Record of 10 of Set 1: Pathein \n",
      "Recording Record of 11 of Set 1: Coquimbo \n",
      "Recording Record of 12 of Set 1: Gari \n",
      "Recording Record of 13 of Set 1: Bluff \n",
      "Recording Record of 14 of Set 1: Adrar \n",
      "Recording Record of 15 of Set 1: Salalah \n",
      "Recording Record of 16 of Set 1: Erdenet \n",
      "City not found. Skipping...\n",
      "Recording Record of 17 of Set 1: Hobart \n",
      "Recording Record of 18 of Set 1: Pangai \n",
      "Recording Record of 19 of Set 1: Binga \n",
      "Recording Record of 20 of Set 1: Butaritari \n",
      "Recording Record of 21 of Set 1: Kumul \n",
      "Recording Record of 22 of Set 1: Khatanga \n",
      "Recording Record of 23 of Set 1: Novy Urengoy \n",
      "Recording Record of 24 of Set 1: Mehamn \n",
      "Recording Record of 25 of Set 1: Kapaa \n",
      "Recording Record of 26 of Set 1: Muskegon \n",
      "Recording Record of 27 of Set 1: Schwaz \n",
      "Recording Record of 28 of Set 1: Pevek \n",
      "Recording Record of 29 of Set 1: Lebu \n",
      "Recording Record of 30 of Set 1: Provideniya \n",
      "Recording Record of 31 of Set 1: Hurghada \n",
      "City not found. Skipping...\n",
      "Recording Record of 32 of Set 1: Tilichiki \n",
      "Recording Record of 33 of Set 1: Vaini \n",
      "Recording Record of 34 of Set 1: Baykit \n",
      "Recording Record of 35 of Set 1: Atuona \n",
      "Recording Record of 36 of Set 1: Narsaq \n",
      "Recording Record of 37 of Set 1: Cabinda \n",
      "Recording Record of 38 of Set 1: Cap Malheureux \n",
      "Recording Record of 39 of Set 1: Tongling \n",
      "Recording Record of 40 of Set 1: São João da Barra \n",
      "Recording Record of 41 of Set 1: Albanel \n",
      "City not found. Skipping...\n",
      "Recording Record of 42 of Set 1: Port Macquarie \n",
      "Recording Record of 43 of Set 1: Mbandaka \n",
      "Recording Record of 44 of Set 1: Korla \n",
      "Recording Record of 45 of Set 1: Severo-Kuril'sk \n",
      "Recording Record of 46 of Set 1: Lata \n",
      "City not found. Skipping...\n",
      "Recording Record of 47 of Set 1: Byron Bay \n",
      "Recording Record of 48 of Set 1: Port Elizabeth \n",
      "Recording Record of 49 of Set 1: Bethel \n",
      "Recording Record of 50 of Set 1: Albany \n",
      "Recording Record of 51 of Set 1: Cabo San Lucas \n",
      "Recording Record of 1 of Set 2: Padang \n",
      "City not found. Skipping...\n",
      "Recording Record of 2 of Set 2: Ushuaia \n",
      "Recording Record of 3 of Set 2: Kavaratti \n",
      "Recording Record of 4 of Set 2: Avarua \n",
      "Recording Record of 5 of Set 2: Kyren \n",
      "Recording Record of 6 of Set 2: Valentín Gómez Farías \n",
      "Recording Record of 7 of Set 2: Chernyshevskiy \n",
      "Recording Record of 8 of Set 2: Salinópolis \n",
      "Recording Record of 9 of Set 2: San Patricio \n",
      "Recording Record of 10 of Set 2: Hastings \n",
      "Recording Record of 11 of Set 2: Mahébourg \n",
      "Recording Record of 12 of Set 2: Birao \n",
      "Recording Record of 13 of Set 2: Khovd \n",
      "Recording Record of 14 of Set 2: Luanda \n",
      "Recording Record of 15 of Set 2: Mallow \n",
      "Recording Record of 16 of Set 2: New Norfolk \n",
      "Recording Record of 17 of Set 2: Joniškis \n",
      "Recording Record of 18 of Set 2: Alta Floresta \n",
      "Recording Record of 19 of Set 2: Barabai \n",
      "Recording Record of 20 of Set 2: Cherskiy \n",
      "Recording Record of 21 of Set 2: Katsuura \n",
      "Recording Record of 22 of Set 2: Madang \n",
      "Recording Record of 23 of Set 2: Exeter \n",
      "Recording Record of 24 of Set 2: Berlevåg \n",
      "Recording Record of 25 of Set 2: Pak Phanang \n",
      "City not found. Skipping...\n",
      "Recording Record of 26 of Set 2: Norman Wells \n",
      "Recording Record of 27 of Set 2: Fortuna \n",
      "City not found. Skipping...\n",
      "Recording Record of 28 of Set 2: Gachsaran \n",
      "Recording Record of 29 of Set 2: Bua Yai \n",
      "Recording Record of 30 of Set 2: Saint-Philippe \n",
      "Recording Record of 31 of Set 2: Havelock \n",
      "City not found. Skipping...\n",
      "Recording Record of 32 of Set 2: Yellowknife \n",
      "Recording Record of 33 of Set 2: Hannibal \n",
      "Recording Record of 34 of Set 2: Halifax \n",
      "Recording Record of 35 of Set 2: Orotukan \n",
      "Recording Record of 36 of Set 2: Puerto Ayora \n",
      "Recording Record of 37 of Set 2: Hilo \n",
      "Recording Record of 38 of Set 2: Tuatapere \n",
      "Recording Record of 39 of Set 2: College \n",
      "Recording Record of 40 of Set 2: Nelson Bay \n",
      "Recording Record of 41 of Set 2: Mar del Plata \n",
      "Recording Record of 42 of Set 2: Kuloy \n",
      "Recording Record of 43 of Set 2: Thinadhoo \n",
      "Recording Record of 44 of Set 2: Kuminskiy \n",
      "Recording Record of 45 of Set 2: Kavieng \n",
      "Recording Record of 46 of Set 2: Davila \n",
      "Recording Record of 47 of Set 2: Sioux Lookout \n",
      "Recording Record of 48 of Set 2: Marzuq \n",
      "Recording Record of 49 of Set 2: Champerico \n",
      "Recording Record of 50 of Set 2: Souillac \n",
      "Recording Record of 51 of Set 2: Ludvika \n",
      "Recording Record of 1 of Set 3: Cikampek \n",
      "Recording Record of 2 of Set 3: Mataura \n",
      "Recording Record of 3 of Set 3: Hithadhoo \n",
      "City not found. Skipping...\n",
      "Recording Record of 4 of Set 3: Flin Flon \n",
      "Recording Record of 5 of Set 3: Bredasdorp \n",
      "Recording Record of 6 of Set 3: San Policarpo \n",
      "Recording Record of 7 of Set 3: Qaanaaq \n",
      "Recording Record of 8 of Set 3: San Quintín \n",
      "Recording Record of 9 of Set 3: Torbay \n",
      "Recording Record of 10 of Set 3: Saskylakh \n",
      "Recording Record of 11 of Set 3: Saposoa \n",
      "Recording Record of 12 of Set 3: Ribeira Grande \n",
      "Recording Record of 13 of Set 3: Upernavik \n",
      "Recording Record of 14 of Set 3: Nikolskoye \n",
      "Recording Record of 15 of Set 3: Itanagar \n",
      "Recording Record of 16 of Set 3: Chokurdakh \n",
      "Recording Record of 17 of Set 3: Nabire \n",
      "Recording Record of 18 of Set 3: Yining \n",
      "Recording Record of 19 of Set 3: Kysyl-Syr \n",
      "Recording Record of 20 of Set 3: Tiksi \n",
      "Recording Record of 21 of Set 3: Arman' \n",
      "City not found. Skipping...\n",
      "Recording Record of 22 of Set 3: Daru \n",
      "Recording Record of 23 of Set 3: Aklavik \n",
      "Recording Record of 24 of Set 3: Narovchat \n",
      "Recording Record of 25 of Set 3: St. George's \n",
      "Recording Record of 26 of Set 3: Comodoro Rivadavia \n",
      "Recording Record of 27 of Set 3: Río Gallegos \n",
      "Recording Record of 28 of Set 3: Castro \n",
      "Recording Record of 29 of Set 3: Busselton \n",
      "Recording Record of 30 of Set 3: Caririaçu \n",
      "Recording Record of 31 of Set 3: Gizo Government Station \n",
      "Recording Record of 32 of Set 3: Nokha \n",
      "Recording Record of 33 of Set 3: Mossamedes \n",
      "Recording Record of 34 of Set 3: Karratha \n",
      "Recording Record of 35 of Set 3: Port Lincoln \n",
      "Recording Record of 36 of Set 3: Dauriya \n",
      "Recording Record of 37 of Set 3: Jamestown \n",
      "Recording Record of 38 of Set 3: Pimampiro \n",
      "Recording Record of 39 of Set 3: Tautira \n",
      "Recording Record of 40 of Set 3: Airai \n",
      "Recording Record of 41 of Set 3: Husavik \n",
      "Recording Record of 42 of Set 3: Severo-Yeniseyskiy \n",
      "Recording Record of 43 of Set 3: Moussoro \n",
      "Recording Record of 44 of Set 3: Broome \n",
      "Recording Record of 45 of Set 3: Tahoua \n",
      "Recording Record of 46 of Set 3: Lishan \n",
      "Recording Record of 47 of Set 3: Yangi Marg`ilon \n",
      "Recording Record of 48 of Set 3: Hobyo \n",
      "Recording Record of 49 of Set 3: Honiara \n",
      "Recording Record of 50 of Set 3: East London \n",
      "Recording Record of 51 of Set 3: Manggar \n",
      "Recording Record of 1 of Set 4: Chinhoyi \n",
      "Recording Record of 2 of Set 4: Yidu \n",
      "Recording Record of 3 of Set 4: Cidreira \n",
      "Recording Record of 4 of Set 4: Vardø \n",
      "Recording Record of 5 of Set 4: Vera Cruz \n",
      "Recording Record of 6 of Set 4: Thompson \n",
      "Recording Record of 7 of Set 4: Cape Town \n",
      "Recording Record of 8 of Set 4: Bilma \n",
      "Recording Record of 9 of Set 4: Zyryanka \n",
      "Recording Record of 10 of Set 4: Koutiala \n",
      "Recording Record of 11 of Set 4: Port Alfred \n",
      "Recording Record of 12 of Set 4: Carndonagh \n",
      "Recording Record of 13 of Set 4: Poum \n",
      "Recording Record of 14 of Set 4: Kahului \n",
      "Recording Record of 15 of Set 4: Roanoke Rapids \n",
      "Recording Record of 16 of Set 4: Hermanus \n",
      "Recording Record of 17 of Set 4: Dikson \n",
      "City not found. Skipping...\n",
      "Recording Record of 18 of Set 4: Dunedin \n",
      "Recording Record of 19 of Set 4: Coyhaique \n",
      "Recording Record of 20 of Set 4: Pazarić \n",
      "City not found. Skipping...\n",
      "Recording Record of 21 of Set 4: Porto Santo \n",
      "Recording Record of 22 of Set 4: Fairbanks \n",
      "Recording Record of 23 of Set 4: San Cristobal \n",
      "Recording Record of 24 of Set 4: Zbarazh \n",
      "Recording Record of 25 of Set 4: Kuril'sk \n",
      "Recording Record of 26 of Set 4: Palekastro \n",
      "Recording Record of 27 of Set 4: Otjimbingwe \n",
      "Recording Record of 28 of Set 4: Saint Paul Harbor \n"
     ]
    },
    {
     "name": "stdout",
     "output_type": "stream",
     "text": [
      "Recording Record of 29 of Set 4: Arraial do Cabo \n",
      "Recording Record of 30 of Set 4: Teya \n",
      "Recording Record of 31 of Set 4: Paamiut \n",
      "Recording Record of 32 of Set 4: Hong Kong \n",
      "Recording Record of 33 of Set 4: Clyde River \n",
      "City not found. Skipping...\n",
      "Recording Record of 34 of Set 4: Carnarvon \n",
      "Recording Record of 35 of Set 4: Shiroishi \n",
      "Recording Record of 36 of Set 4: Moose Factory \n",
      "Recording Record of 37 of Set 4: Zhigalovo \n",
      "Recording Record of 38 of Set 4: Kandi \n",
      "Recording Record of 39 of Set 4: Inhambane \n",
      "Recording Record of 40 of Set 4: Thunder Bay \n",
      "Recording Record of 41 of Set 4: Kruisfontein \n",
      "Recording Record of 42 of Set 4: Dingle \n",
      "Recording Record of 43 of Set 4: Igarka \n",
      "Recording Record of 44 of Set 4: Anagé \n",
      "Recording Record of 45 of Set 4: Vestmannaeyjar \n",
      "Recording Record of 46 of Set 4: Bengkulu \n",
      "City not found. Skipping...\n",
      "Recording Record of 47 of Set 4: Raudeberg \n",
      "Recording Record of 48 of Set 4: George Town \n",
      "Recording Record of 49 of Set 4: Nouadhibou \n",
      "Recording Record of 50 of Set 4: Port Blair \n",
      "City not found. Skipping...\n",
      "Recording Record of 51 of Set 4: Slidell \n",
      "Recording Record of 1 of Set 5: Rocha \n",
      "Recording Record of 2 of Set 5: Ciudad Bolivar \n",
      "City not found. Skipping...\n",
      "Recording Record of 3 of Set 5: Grimshaw \n",
      "Recording Record of 4 of Set 5: Mvangué \n",
      "Recording Record of 5 of Set 5: Paris \n",
      "Recording Record of 6 of Set 5: Tuktoyaktuk \n",
      "Recording Record of 7 of Set 5: Meulaboh \n",
      "Recording Record of 8 of Set 5: Maceió \n",
      "Recording Record of 9 of Set 5: Forbes \n",
      "Recording Record of 10 of Set 5: Kaitangata \n",
      "Recording Record of 11 of Set 5: Saldanha \n",
      "Recording Record of 12 of Set 5: Cibitoke Province \n",
      "Recording Record of 13 of Set 5: Vila Franca do Campo \n",
      "Recording Record of 14 of Set 5: Saltpond \n",
      "Recording Record of 15 of Set 5: San Jerónimo \n",
      "Recording Record of 16 of Set 5: Iqaluit \n",
      "Recording Record of 17 of Set 5: Kirakira \n",
      "Recording Record of 18 of Set 5: Lubango \n",
      "Recording Record of 19 of Set 5: Cururupu \n",
      "Recording Record of 20 of Set 5: Balabac \n",
      "Recording Record of 21 of Set 5: Togur \n",
      "Recording Record of 22 of Set 5: Khudumelapye \n",
      "Recording Record of 23 of Set 5: Pokhara \n",
      "Recording Record of 24 of Set 5: Homer \n",
      "Recording Record of 25 of Set 5: Saint George \n",
      "Recording Record of 26 of Set 5: Fomboni \n",
      "Recording Record of 27 of Set 5: Tasiilaq \n",
      "City not found. Skipping...\n",
      "Recording Record of 28 of Set 5: Ulladulla \n",
      "Recording Record of 29 of Set 5: Golyshmanovo \n",
      "Recording Record of 30 of Set 5: Lüderitz \n",
      "Recording Record of 31 of Set 5: Grand-Santi \n",
      "Recording Record of 32 of Set 5: Arrondissement de Muret \n",
      "Recording Record of 33 of Set 5: Bathsheba \n",
      "Recording Record of 34 of Set 5: Bandarbeyla \n",
      "City not found. Skipping...\n",
      "Recording Record of 35 of Set 5: Pisco \n",
      "Recording Record of 36 of Set 5: Pangkalanbuun \n",
      "Recording Record of 37 of Set 5: Umarkot \n",
      "Recording Record of 38 of Set 5: Beringovskiy \n",
      "Recording Record of 39 of Set 5: Huaral \n",
      "Recording Record of 40 of Set 5: Lompoc \n",
      "City not found. Skipping...\n",
      "Recording Record of 41 of Set 5: Quelimane \n",
      "Recording Record of 42 of Set 5: Healdsburg \n",
      "Recording Record of 43 of Set 5: Scarborough \n",
      "Recording Record of 44 of Set 5: Drymen \n",
      "Recording Record of 45 of Set 5: ‘Āhuimanu \n",
      "Recording Record of 46 of Set 5: Grindavik \n",
      "Recording Record of 47 of Set 5: Camapuã \n",
      "Recording Record of 48 of Set 5: Dashitou \n",
      "Recording Record of 49 of Set 5: Yar-Sale \n",
      "Recording Record of 50 of Set 5: Hailar \n",
      "Recording Record of 51 of Set 5: Te Anau \n",
      "Recording Record of 1 of Set 6: Moranbah \n",
      "Recording Record of 2 of Set 6: Kattivākkam \n",
      "Recording Record of 3 of Set 6: Najrān \n",
      "Recording Record of 4 of Set 6: Vallenar \n",
      "Recording Record of 5 of Set 6: Avera \n",
      "Recording Record of 6 of Set 6: Dongying \n",
      "Recording Record of 7 of Set 6: Barcelos \n",
      "Recording Record of 8 of Set 6: Rāisinghnagar \n",
      "Recording Record of 9 of Set 6: Bauchi \n",
      "Recording Record of 10 of Set 6: Valdivia \n",
      "City not found. Skipping...\n",
      "Recording Record of 11 of Set 6: Chui \n",
      "Recording Record of 12 of Set 6: La Ronge \n",
      "Recording Record of 13 of Set 6: Talnakh \n",
      "Recording Record of 14 of Set 6: Santander \n",
      "Recording Record of 15 of Set 6: Ukiah \n",
      "Recording Record of 16 of Set 6: Laguna \n",
      "Recording Record of 17 of Set 6: Batagay \n",
      "Recording Record of 18 of Set 6: Yeppoon \n",
      "Recording Record of 19 of Set 6: Olafsvik \n",
      "Recording Record of 20 of Set 6: Cairns \n",
      "City not found. Skipping...\n",
      "City not found. Skipping...\n",
      "Recording Record of 21 of Set 6: Bherāmāra \n",
      "Recording Record of 22 of Set 6: Kapit \n",
      "Recording Record of 23 of Set 6: Markova \n",
      "Recording Record of 24 of Set 6: Mobaye \n",
      "Recording Record of 25 of Set 6: Auki \n",
      "Recording Record of 26 of Set 6: Harlingen \n",
      "Recording Record of 27 of Set 6: Kisangani \n",
      "Recording Record of 28 of Set 6: Luau \n",
      "Recording Record of 29 of Set 6: Vanimo \n",
      "Recording Record of 30 of Set 6: Guerrero Negro \n",
      "City not found. Skipping...\n",
      "Recording Record of 31 of Set 6: Hare Bay \n",
      "Recording Record of 32 of Set 6: Port Hedland \n",
      "Recording Record of 33 of Set 6: Sitka \n",
      "Recording Record of 34 of Set 6: Lázaro Cárdenas \n",
      "City not found. Skipping...\n",
      "Recording Record of 35 of Set 6: Arroyo de la Encomienda \n",
      "Recording Record of 36 of Set 6: Nishihara \n",
      "Recording Record of 37 of Set 6: Bonavista \n",
      "Recording Record of 38 of Set 6: Vila Velha \n",
      "Recording Record of 39 of Set 6: Puerto Madero \n",
      "Recording Record of 40 of Set 6: La Asuncion \n",
      "Recording Record of 41 of Set 6: Verkhnevilyuysk \n",
      "Recording Record of 42 of Set 6: Nova Russas \n",
      "Recording Record of 43 of Set 6: Klaksvík \n",
      "Recording Record of 44 of Set 6: The Valley \n",
      "Recording Record of 45 of Set 6: Waipawa \n",
      "Recording Record of 46 of Set 6: Los Llanos de Aridane \n",
      "Recording Record of 47 of Set 6: Sambava \n",
      "Recording Record of 48 of Set 6: Sakaiminato \n",
      "Recording Record of 49 of Set 6: Griffith \n",
      "Recording Record of 50 of Set 6: Ponta do Sol \n",
      "Recording Record of 51 of Set 6: Joshīmath \n",
      "Recording Record of 1 of Set 7: Mollendo \n",
      "Recording Record of 2 of Set 7: Ugoofaaru \n",
      "Recording Record of 3 of Set 7: Ketchikan \n",
      "City not found. Skipping...\n",
      "Recording Record of 4 of Set 7: Port Shepstone \n",
      "Recording Record of 5 of Set 7: Nara \n",
      "Recording Record of 6 of Set 7: Bom Jardim \n",
      "Recording Record of 7 of Set 7: Pierre \n",
      "Recording Record of 8 of Set 7: Xining \n",
      "Recording Record of 9 of Set 7: Ibotirama \n",
      "Recording Record of 10 of Set 7: Prikubanskiy \n",
      "Recording Record of 11 of Set 7: Morondava \n",
      "Recording Record of 12 of Set 7: Faanui \n",
      "Recording Record of 13 of Set 7: Sawākin \n",
      "Recording Record of 14 of Set 7: Vredendal \n",
      "Recording Record of 15 of Set 7: Codajás \n",
      "Recording Record of 16 of Set 7: Llanes \n",
      "City not found. Skipping...\n",
      "Recording Record of 17 of Set 7: Dutlwe \n",
      "Recording Record of 18 of Set 7: Staraya Kulatka \n",
      "City not found. Skipping...\n",
      "Recording Record of 19 of Set 7: Bria \n",
      "City not found. Skipping...\n",
      "Recording Record of 20 of Set 7: Elko \n",
      "Recording Record of 21 of Set 7: Bambous Virieux \n",
      "Recording Record of 22 of Set 7: Bubaque \n",
      "Recording Record of 23 of Set 7: Pijijiapan \n",
      "Recording Record of 24 of Set 7: Zhigansk \n",
      "Recording Record of 25 of Set 7: Kabanjahe \n",
      "Recording Record of 26 of Set 7: Abhar \n",
      "Recording Record of 27 of Set 7: Isangel \n",
      "Recording Record of 28 of Set 7: Shelburne \n",
      "Recording Record of 29 of Set 7: Gawler \n",
      "City not found. Skipping...\n",
      "Recording Record of 30 of Set 7: Saint-Louis \n",
      "Recording Record of 31 of Set 7: Iranshahr \n",
      "Recording Record of 32 of Set 7: Belle Fourche \n",
      "Recording Record of 33 of Set 7: Wairoa \n",
      "Recording Record of 34 of Set 7: Beruwala \n",
      "City not found. Skipping...\n",
      "City not found. Skipping...\n",
      "Recording Record of 35 of Set 7: Beihai \n",
      "Recording Record of 36 of Set 7: Sayyan \n",
      "Recording Record of 37 of Set 7: Ankang \n",
      "Recording Record of 38 of Set 7: Walvis Bay \n",
      "Recording Record of 39 of Set 7: Nueve de Julio \n",
      "Recording Record of 40 of Set 7: Leningradskiy \n",
      "Recording Record of 41 of Set 7: Tutóia \n",
      "Recording Record of 42 of Set 7: Los Zacatones \n",
      "Recording Record of 43 of Set 7: Kenora \n",
      "Recording Record of 44 of Set 7: Geraldton \n",
      "Recording Record of 45 of Set 7: Abu Samrah \n",
      "Recording Record of 46 of Set 7: Lorengau \n",
      "Recording Record of 47 of Set 7: Milas \n",
      "Recording Record of 48 of Set 7: Menzel Salem \n",
      "Recording Record of 49 of Set 7: Murygino \n",
      "Recording Record of 50 of Set 7: Saint-Leu \n",
      "City not found. Skipping...\n"
     ]
    },
    {
     "name": "stdout",
     "output_type": "stream",
     "text": [
      "Recording Record of 51 of Set 7: Mackay \n",
      "Recording Record of 1 of Set 8: Izhmorskiy \n",
      "Recording Record of 2 of Set 8: Caborca \n",
      "City not found. Skipping...\n",
      "Recording Record of 3 of Set 8: Pangody \n",
      "City not found. Skipping...\n",
      "Recording Record of 4 of Set 8: Socorro \n",
      "Recording Record of 5 of Set 8: Itoman \n",
      "Recording Record of 6 of Set 8: Kindu \n",
      "Recording Record of 7 of Set 8: Archidona \n",
      "Recording Record of 8 of Set 8: Ostrovnoy \n",
      "Recording Record of 9 of Set 8: Eydhafushi \n",
      "Recording Record of 10 of Set 8: Yerbogachën \n",
      "Recording Record of 11 of Set 8: Hamilton \n",
      "Recording Record of 12 of Set 8: Grand Gaube \n",
      "Recording Record of 13 of Set 8: Hervey Bay \n",
      "Recording Record of 14 of Set 8: Abu Dhabi \n",
      "Recording Record of 15 of Set 8: Iquitos \n",
      "Recording Record of 16 of Set 8: Sturgis \n",
      "Recording Record of 17 of Set 8: Weinan \n",
      "Recording Record of 18 of Set 8: Nome \n",
      "Recording Record of 19 of Set 8: Merauke \n",
      "Recording Record of 20 of Set 8: Las Cruces \n",
      "Recording Record of 21 of Set 8: Kovernino \n",
      "Recording Record of 22 of Set 8: Alihe \n",
      "Recording Record of 23 of Set 8: Puerto Rico \n",
      "Recording Record of 24 of Set 8: Hasaki \n",
      "Recording Record of 25 of Set 8: Termoli \n",
      "Recording Record of 26 of Set 8: Rawson \n",
      "Recording Record of 27 of Set 8: Saint-Pierre \n",
      "Recording Record of 28 of Set 8: Inuvik \n",
      "Recording Record of 29 of Set 8: Berdigestyakh \n",
      "Recording Record of 30 of Set 8: Green Valley \n",
      "Recording Record of 31 of Set 8: Sarh \n",
      "City not found. Skipping...\n",
      "Recording Record of 32 of Set 8: Sahuaripa \n",
      "Recording Record of 33 of Set 8: Mount Gambier \n",
      "Recording Record of 34 of Set 8: Mitsamiouli \n",
      "Recording Record of 35 of Set 8: Port Victoria \n",
      "Recording Record of 36 of Set 8: Yulara \n",
      "Recording Record of 37 of Set 8: Flinders \n",
      "Recording Record of 38 of Set 8: Erice \n",
      "Recording Record of 39 of Set 8: Kaeo \n",
      "Recording Record of 40 of Set 8: Kaduna \n",
      "Recording Record of 41 of Set 8: Sinnamary \n",
      "Recording Record of 42 of Set 8: Sobolevo \n",
      "City not found. Skipping...\n",
      "Recording Record of 43 of Set 8: Rio Grande \n",
      "Recording Record of 44 of Set 8: Birjand \n",
      "Recording Record of 45 of Set 8: Wollongong \n",
      "Recording Record of 46 of Set 8: Tete \n",
      "City not found. Skipping...\n",
      "Recording Record of 47 of Set 8: Makakilo City \n",
      "Recording Record of 48 of Set 8: Nyimba \n",
      "City not found. Skipping...\n",
      "City not found. Skipping...\n",
      "Recording Record of 49 of Set 8: Puri \n",
      "Recording Record of 50 of Set 8: Middletown \n",
      "Recording Record of 51 of Set 8: Shubarkuduk \n",
      "Recording Record of 1 of Set 9: Camacha \n",
      "Recording Record of 2 of Set 9: Uglovskoye \n",
      "Recording Record of 3 of Set 9: Longonjo \n",
      "Recording Record of 4 of Set 9: Marang \n",
      "Recording Record of 5 of Set 9: Sittwe \n",
      "City not found. Skipping...\n",
      "Recording Record of 6 of Set 9: Kiryat Gat \n",
      "Recording Record of 7 of Set 9: Marsh Harbour \n",
      "Recording Record of 8 of Set 9: Constitución \n",
      "Recording Record of 9 of Set 9: Soyo \n",
      "Recording Record of 10 of Set 9: Erenhot \n",
      "Recording Record of 11 of Set 9: Gamba \n",
      "Recording Record of 12 of Set 9: Jatai \n",
      "Recording Record of 13 of Set 9: Portland \n",
      "Recording Record of 14 of Set 9: Inírida \n",
      "Recording Record of 15 of Set 9: Niquelândia \n",
      "Recording Record of 16 of Set 9: Ancud \n",
      "Recording Record of 17 of Set 9: Ayan \n",
      "Recording Record of 18 of Set 9: Udayagiri \n",
      "Recording Record of 19 of Set 9: Ōdachō-ōda \n",
      "Recording Record of 20 of Set 9: Samarai \n",
      "Recording Record of 21 of Set 9: Pacific Grove \n",
      "Recording Record of 22 of Set 9: Presidente Olegário \n",
      "City not found. Skipping...\n",
      "Recording Record of 23 of Set 9: Brae \n",
      "Recording Record of 24 of Set 9: Menongue \n",
      "Recording Record of 25 of Set 9: Frontera \n",
      "Recording Record of 26 of Set 9: Laas \n",
      "Recording Record of 27 of Set 9: Abasolo \n",
      "Recording Record of 28 of Set 9: North Platte \n",
      "Recording Record of 29 of Set 9: Sovetskiy \n",
      "Recording Record of 30 of Set 9: Port-Cartier \n",
      "City not found. Skipping...\n",
      "City not found. Skipping...\n",
      "Recording Record of 31 of Set 9: Bani Walid \n",
      "Recording Record of 32 of Set 9: Chunhuhub \n",
      "Recording Record of 33 of Set 9: Mount Isa \n",
      "Recording Record of 34 of Set 9: Namatanai \n",
      "Recording Record of 35 of Set 9: Panabá \n",
      "Recording Record of 36 of Set 9: Sept-Îles \n",
      "Recording Record of 37 of Set 9: Nova Odesa \n",
      "Recording Record of 38 of Set 9: Gönen \n",
      "Recording Record of 39 of Set 9: Goderich \n",
      "Recording Record of 40 of Set 9: Nanortalik \n",
      "Recording Record of 41 of Set 9: Ikalamavony \n",
      "Recording Record of 42 of Set 9: Faya \n",
      "Recording Record of 43 of Set 9: Ampanihy \n",
      "Recording Record of 44 of Set 9: Ola \n",
      "Recording Record of 45 of Set 9: São Filipe \n",
      "Recording Record of 46 of Set 9: Saint Lawrence \n",
      "Recording Record of 47 of Set 9: Oga \n",
      "Recording Record of 48 of Set 9: Slave Lake \n",
      "Recording Record of 49 of Set 9: São Lourenço da Mata \n",
      "Recording Record of 50 of Set 9: Santa Cruz \n",
      "Recording Record of 51 of Set 9: Haines Junction \n",
      "Recording Record of 1 of Set 10: Bukachacha \n",
      "Recording Record of 2 of Set 10: Cruzeiro do Sul \n",
      "City not found. Skipping...\n",
      "Recording Record of 3 of Set 10: Tāki \n",
      "Recording Record of 4 of Set 10: Codrington \n",
      "Recording Record of 5 of Set 10: Sistranda \n",
      "Recording Record of 6 of Set 10: Taoudenni \n",
      "Recording Record of 7 of Set 10: Hambantota \n",
      "Recording Record of 8 of Set 10: Montrose \n",
      "Recording Record of 9 of Set 10: Necochea \n",
      "Recording Record of 10 of Set 10: Rome \n",
      "Recording Record of 11 of Set 10: Matamoros \n",
      "Recording Record of 12 of Set 10: San Ramon \n",
      "Recording Record of 13 of Set 10: Texarkana \n",
      "Recording Record of 14 of Set 10: Altay \n",
      "Recording Record of 15 of Set 10: North Bend \n",
      "Recording Record of 16 of Set 10: Mineiros \n",
      "Recording Record of 17 of Set 10: Synya \n",
      "Recording Record of 18 of Set 10: Staryy Nadym \n",
      "Recording Record of 19 of Set 10: Cayenne \n",
      "Recording Record of 20 of Set 10: Bismarck \n",
      "Recording Record of 21 of Set 10: Rome \n",
      "Recording Record of 22 of Set 10: Ambon City \n",
      "Recording Record of 23 of Set 10: Wanaka \n",
      "Recording Record of 24 of Set 10: Alice Springs \n",
      "Recording Record of 25 of Set 10: Arlit \n",
      "Recording Record of 26 of Set 10: Neiafu \n",
      "Recording Record of 27 of Set 10: Coahuayana Viejo \n",
      "Recording Record of 28 of Set 10: Richards Bay \n",
      "Recording Record of 29 of Set 10: Nyurba \n",
      "Recording Record of 30 of Set 10: Henties Bay \n",
      "Recording Record of 31 of Set 10: Séguéla \n",
      "Recording Record of 32 of Set 10: Vanavara \n",
      "Recording Record of 33 of Set 10: Golāghāt \n",
      "Recording Record of 34 of Set 10: Belyy Yar \n",
      "Recording Record of 35 of Set 10: Paita \n",
      "Recording Record of 36 of Set 10: Shiyan \n",
      "Recording Record of 37 of Set 10: Ilulissat \n",
      "Recording Record of 38 of Set 10: Beloha \n",
      "Recording Record of 39 of Set 10: Coburg \n",
      "Recording Record of 40 of Set 10: Loa Janan \n",
      "City not found. Skipping...\n",
      "City not found. Skipping...\n",
      "Recording Record of 41 of Set 10: Predivinsk \n",
      "Recording Record of 42 of Set 10: Trabzon Province \n",
      "Recording Record of 43 of Set 10: Gradiška \n",
      "Recording Record of 44 of Set 10: Ahipara \n",
      "Recording Record of 45 of Set 10: Yumen \n",
      "Recording Record of 46 of Set 10: Kyra \n",
      "Recording Record of 47 of Set 10: Suez \n",
      "Recording Record of 48 of Set 10: Banjar \n",
      "Recording Record of 49 of Set 10: Kudahuvadhoo \n",
      "Recording Record of 50 of Set 10: Ratnagiri \n",
      "Recording Record of 51 of Set 10: Ambilobe \n",
      "Recording Record of 1 of Set 11: Gairo \n",
      "Recording Record of 2 of Set 11: Touros \n",
      "Recording Record of 3 of Set 11: Ha Giang \n",
      "Recording Record of 4 of Set 11: Batagay-Alyta \n",
      "Recording Record of 5 of Set 11: Ponta Delgada \n",
      "Recording Record of 6 of Set 11: Skellefteå \n",
      "Recording Record of 7 of Set 11: Qasigiannguit \n",
      "Recording Record of 8 of Set 11: Half Moon Bay \n",
      "Recording Record of 9 of Set 11: Stezzano \n",
      "Recording Record of 10 of Set 11: Denpasar \n",
      "Recording Record of 11 of Set 11: Newcastle \n",
      "Recording Record of 12 of Set 11: Yarmouth \n",
      "Recording Record of 13 of Set 11: Nhulunbuy \n",
      "Recording Record of 14 of Set 11: İskenderun \n",
      "Recording Record of 15 of Set 11: Solnechnyy \n",
      "Recording Record of 16 of Set 11: Poplar Bluff \n",
      "Recording Record of 17 of Set 11: Muros \n",
      "Recording Record of 18 of Set 11: Aksu \n",
      "Recording Record of 19 of Set 11: Samfya \n",
      "Recording Record of 20 of Set 11: Korsholm \n",
      "Recording Record of 21 of Set 11: Srednekolymsk \n",
      "Recording Record of 22 of Set 11: Merrill \n",
      "Recording Record of 23 of Set 11: Torgelow \n",
      "Recording Record of 24 of Set 11: Mayo \n",
      "Recording Record of 25 of Set 11: Ginda \n"
     ]
    },
    {
     "name": "stdout",
     "output_type": "stream",
     "text": [
      "Recording Record of 26 of Set 11: Pasaje \n",
      "Recording Record of 27 of Set 11: Zhuhai \n",
      "Recording Record of 28 of Set 11: Huarmey \n",
      "Recording Record of 29 of Set 11: Hofn \n",
      "Recording Record of 30 of Set 11: Ribas do Rio Pardo \n",
      "Recording Record of 31 of Set 11: Longyearbyen \n",
      "Recording Record of 32 of Set 11: Alofi \n",
      "Recording Record of 33 of Set 11: Harper \n",
      "Recording Record of 34 of Set 11: Bereda \n",
      "Recording Record of 35 of Set 11: Cockburn Town \n",
      "Recording Record of 36 of Set 11: Waingapu \n",
      "Recording Record of 37 of Set 11: Weligama \n",
      "City not found. Skipping...\n",
      "Recording Record of 38 of Set 11: Krasnaya Gorka \n",
      "Recording Record of 39 of Set 11: Ilhéus \n",
      "Recording Record of 40 of Set 11: Oranjestad \n",
      "Recording Record of 41 of Set 11: Ambulu \n",
      "Recording Record of 42 of Set 11: Paide \n",
      "Recording Record of 43 of Set 11: Dongsheng \n",
      "Recording Record of 44 of Set 11: Samaná \n",
      "Recording Record of 45 of Set 11: Mahon \n",
      "Recording Record of 46 of Set 11: Makkah al Mukarramah \n",
      "Recording Record of 47 of Set 11: Marivan \n",
      "Recording Record of 48 of Set 11: Englehart \n",
      "Recording Record of 49 of Set 11: Paramonga \n",
      "Recording Record of 50 of Set 11: Curup \n",
      "Recording Record of 51 of Set 11: Praia da Vitória \n",
      "Recording Record of 1 of Set 12: Sri Aman \n",
      "City not found. Skipping...\n",
      "Recording Record of 2 of Set 12: El Jícaro \n",
      "Recording Record of 3 of Set 12: Chapais \n",
      "Recording Record of 4 of Set 12: Tazovsky \n",
      "Recording Record of 5 of Set 12: Höganäs \n",
      "City not found. Skipping...\n",
      "City not found. Skipping...\n",
      "Recording Record of 6 of Set 12: Qinzhou \n",
      "Recording Record of 7 of Set 12: Luxor \n",
      "Recording Record of 8 of Set 12: Syracuse \n",
      "Recording Record of 9 of Set 12: George \n",
      "Recording Record of 10 of Set 12: Pilar \n"
     ]
    }
   ],
   "source": [
    "url = \"http://api.openweathermap.org/data/2.5/weather?\"\n",
    "unit= \"imperial\"\n",
    "city_name= []\n",
    "city_id= []\n",
    "temp= []\n",
    "humidity= []\n",
    "wind= []\n",
    "cloudiness= []\n",
    "latitude= []\n",
    "longitude= []\n",
    "country= []\n",
    "counter = 0\n",
    "set_v= 1\n",
    "for city in cities:\n",
    "    try:\n",
    "        query_url= f\"{url}&q={city}&units={unit}&appid={weather_api_key}\"\n",
    "        response= requests.get(query_url).json()\n",
    "        city_name_v= response['name']\n",
    "        city_name.append(city_name_v)\n",
    "        city_id_v= response['id']\n",
    "        city_id.append(city_id_v)\n",
    "        temp_v=response['main']['temp_max']\n",
    "        temp.append(temp_v)\n",
    "        humidity_v= response['main']['humidity']\n",
    "        humidity.append(humidity_v)\n",
    "        wind_v= response['wind']['speed']\n",
    "        wind.append(wind_v)\n",
    "        cloudiness_v= response['clouds']['all']\n",
    "        cloudiness.append(cloudiness_v)\n",
    "        latitude_v= response['coord']['lat']\n",
    "        latitude.append(latitude_v)\n",
    "        longitude_v= response['coord']['lon']\n",
    "        longitude.append(longitude_v)\n",
    "        country_v= response['sys']['country']\n",
    "        country.append(country_v)\n",
    "        counter= counter +1\n",
    "        print(f\"Recording Record of {counter} of Set {set_v}: {city_name_v} \")\n",
    "        if counter == 51:\n",
    "            set_v= set_v+1\n",
    "            counter= 0\n",
    "            \n",
    "    except:\n",
    "        print(\"City not found. Skipping...\")\n",
    "# print(humidity)\n",
    "# print(temp)\n",
    "# print(wind)\n",
    "# print(cloudiness)"
   ]
  },
  {
   "cell_type": "code",
   "execution_count": 6,
   "metadata": {
    "scrolled": true
   },
   "outputs": [
    {
     "data": {
      "text/html": [
       "<div>\n",
       "<style scoped>\n",
       "    .dataframe tbody tr th:only-of-type {\n",
       "        vertical-align: middle;\n",
       "    }\n",
       "\n",
       "    .dataframe tbody tr th {\n",
       "        vertical-align: top;\n",
       "    }\n",
       "\n",
       "    .dataframe thead th {\n",
       "        text-align: right;\n",
       "    }\n",
       "</style>\n",
       "<table border=\"1\" class=\"dataframe\">\n",
       "  <thead>\n",
       "    <tr style=\"text-align: right;\">\n",
       "      <th></th>\n",
       "      <th>City Name</th>\n",
       "      <th>City ID</th>\n",
       "      <th>Latitude</th>\n",
       "      <th>Longitude</th>\n",
       "      <th>Temp °F</th>\n",
       "      <th>Humidity %</th>\n",
       "      <th>Wind Speed (mph)</th>\n",
       "      <th>Cloudiness %</th>\n",
       "      <th>Country</th>\n",
       "    </tr>\n",
       "  </thead>\n",
       "  <tbody>\n",
       "    <tr>\n",
       "      <th>0</th>\n",
       "      <td>Muisne</td>\n",
       "      <td>3653967</td>\n",
       "      <td>0.6000</td>\n",
       "      <td>-80.0333</td>\n",
       "      <td>78.57</td>\n",
       "      <td>86</td>\n",
       "      <td>4.03</td>\n",
       "      <td>97</td>\n",
       "      <td>EC</td>\n",
       "    </tr>\n",
       "    <tr>\n",
       "      <th>1</th>\n",
       "      <td>Acheng</td>\n",
       "      <td>2038679</td>\n",
       "      <td>45.5454</td>\n",
       "      <td>126.9770</td>\n",
       "      <td>-7.60</td>\n",
       "      <td>84</td>\n",
       "      <td>6.71</td>\n",
       "      <td>100</td>\n",
       "      <td>CN</td>\n",
       "    </tr>\n",
       "    <tr>\n",
       "      <th>2</th>\n",
       "      <td>Punta Arenas</td>\n",
       "      <td>3874787</td>\n",
       "      <td>-53.1500</td>\n",
       "      <td>-70.9167</td>\n",
       "      <td>53.60</td>\n",
       "      <td>62</td>\n",
       "      <td>18.41</td>\n",
       "      <td>0</td>\n",
       "      <td>CL</td>\n",
       "    </tr>\n",
       "    <tr>\n",
       "      <th>3</th>\n",
       "      <td>Lavrentiya</td>\n",
       "      <td>4031637</td>\n",
       "      <td>65.5833</td>\n",
       "      <td>-171.0000</td>\n",
       "      <td>-9.15</td>\n",
       "      <td>79</td>\n",
       "      <td>0.63</td>\n",
       "      <td>0</td>\n",
       "      <td>RU</td>\n",
       "    </tr>\n",
       "    <tr>\n",
       "      <th>4</th>\n",
       "      <td>Sørland</td>\n",
       "      <td>3137469</td>\n",
       "      <td>67.6670</td>\n",
       "      <td>12.6934</td>\n",
       "      <td>35.22</td>\n",
       "      <td>79</td>\n",
       "      <td>19.93</td>\n",
       "      <td>8</td>\n",
       "      <td>NO</td>\n",
       "    </tr>\n",
       "    <tr>\n",
       "      <th>...</th>\n",
       "      <td>...</td>\n",
       "      <td>...</td>\n",
       "      <td>...</td>\n",
       "      <td>...</td>\n",
       "      <td>...</td>\n",
       "      <td>...</td>\n",
       "      <td>...</td>\n",
       "      <td>...</td>\n",
       "      <td>...</td>\n",
       "    </tr>\n",
       "    <tr>\n",
       "      <th>566</th>\n",
       "      <td>Qinzhou</td>\n",
       "      <td>1797551</td>\n",
       "      <td>21.9500</td>\n",
       "      <td>108.6167</td>\n",
       "      <td>67.86</td>\n",
       "      <td>76</td>\n",
       "      <td>5.86</td>\n",
       "      <td>1</td>\n",
       "      <td>CN</td>\n",
       "    </tr>\n",
       "    <tr>\n",
       "      <th>567</th>\n",
       "      <td>Luxor</td>\n",
       "      <td>360502</td>\n",
       "      <td>25.6989</td>\n",
       "      <td>32.6421</td>\n",
       "      <td>53.02</td>\n",
       "      <td>73</td>\n",
       "      <td>2.42</td>\n",
       "      <td>0</td>\n",
       "      <td>EG</td>\n",
       "    </tr>\n",
       "    <tr>\n",
       "      <th>568</th>\n",
       "      <td>Syracuse</td>\n",
       "      <td>2523082</td>\n",
       "      <td>37.0881</td>\n",
       "      <td>15.2792</td>\n",
       "      <td>51.80</td>\n",
       "      <td>100</td>\n",
       "      <td>6.91</td>\n",
       "      <td>90</td>\n",
       "      <td>IT</td>\n",
       "    </tr>\n",
       "    <tr>\n",
       "      <th>569</th>\n",
       "      <td>George</td>\n",
       "      <td>1002145</td>\n",
       "      <td>-33.9630</td>\n",
       "      <td>22.4617</td>\n",
       "      <td>66.20</td>\n",
       "      <td>94</td>\n",
       "      <td>8.05</td>\n",
       "      <td>75</td>\n",
       "      <td>ZA</td>\n",
       "    </tr>\n",
       "    <tr>\n",
       "      <th>570</th>\n",
       "      <td>Pilar</td>\n",
       "      <td>3392126</td>\n",
       "      <td>-9.5972</td>\n",
       "      <td>-35.9567</td>\n",
       "      <td>77.00</td>\n",
       "      <td>88</td>\n",
       "      <td>9.22</td>\n",
       "      <td>0</td>\n",
       "      <td>BR</td>\n",
       "    </tr>\n",
       "  </tbody>\n",
       "</table>\n",
       "<p>571 rows × 9 columns</p>\n",
       "</div>"
      ],
      "text/plain": [
       "        City Name  City ID  Latitude  Longitude  Temp °F  Humidity %  \\\n",
       "0          Muisne  3653967    0.6000   -80.0333    78.57          86   \n",
       "1          Acheng  2038679   45.5454   126.9770    -7.60          84   \n",
       "2    Punta Arenas  3874787  -53.1500   -70.9167    53.60          62   \n",
       "3      Lavrentiya  4031637   65.5833  -171.0000    -9.15          79   \n",
       "4         Sørland  3137469   67.6670    12.6934    35.22          79   \n",
       "..            ...      ...       ...        ...      ...         ...   \n",
       "566       Qinzhou  1797551   21.9500   108.6167    67.86          76   \n",
       "567         Luxor   360502   25.6989    32.6421    53.02          73   \n",
       "568      Syracuse  2523082   37.0881    15.2792    51.80         100   \n",
       "569        George  1002145  -33.9630    22.4617    66.20          94   \n",
       "570         Pilar  3392126   -9.5972   -35.9567    77.00          88   \n",
       "\n",
       "     Wind Speed (mph)  Cloudiness % Country  \n",
       "0                4.03            97      EC  \n",
       "1                6.71           100      CN  \n",
       "2               18.41             0      CL  \n",
       "3                0.63             0      RU  \n",
       "4               19.93             8      NO  \n",
       "..                ...           ...     ...  \n",
       "566              5.86             1      CN  \n",
       "567              2.42             0      EG  \n",
       "568              6.91            90      IT  \n",
       "569              8.05            75      ZA  \n",
       "570              9.22             0      BR  \n",
       "\n",
       "[571 rows x 9 columns]"
      ]
     },
     "execution_count": 6,
     "metadata": {},
     "output_type": "execute_result"
    }
   ],
   "source": [
    "weather_df= pd.DataFrame({\"City Name\" : city_name})\n",
    "weather_df[\"City ID\"]= city_id\n",
    "weather_df[\"Latitude\"]= latitude\n",
    "weather_df[\"Longitude\"]= longitude\n",
    "#alt + 0176 is degree symbol\n",
    "weather_df[\"Temp °F\"]= temp\n",
    "weather_df[\"Humidity %\"]= humidity\n",
    "weather_df[\"Wind Speed (mph)\"]= wind\n",
    "weather_df[\"Cloudiness %\"]= cloudiness\n",
    "weather_df[\"Country\"]= country\n",
    "weather_df\n",
    "   \n"
   ]
  },
  {
   "cell_type": "markdown",
   "metadata": {},
   "source": [
    "### Convert Raw Data to DataFrame\n",
    "* Export the city data into a .csv.\n",
    "* Display the DataFrame"
   ]
  },
  {
   "cell_type": "code",
   "execution_count": 7,
   "metadata": {},
   "outputs": [],
   "source": [
    "weather_df.to_csv(\"Weather_df.csv\",index=False)"
   ]
  },
  {
   "cell_type": "code",
   "execution_count": null,
   "metadata": {},
   "outputs": [],
   "source": []
  },
  {
   "cell_type": "markdown",
   "metadata": {},
   "source": [
    "## Inspect the data and remove the cities where the humidity > 100%.\n",
    "----\n",
    "Skip this step if there are no cities that have humidity > 100%. "
   ]
  },
  {
   "cell_type": "code",
   "execution_count": 8,
   "metadata": {},
   "outputs": [
    {
     "data": {
      "text/html": [
       "<div>\n",
       "<style scoped>\n",
       "    .dataframe tbody tr th:only-of-type {\n",
       "        vertical-align: middle;\n",
       "    }\n",
       "\n",
       "    .dataframe tbody tr th {\n",
       "        vertical-align: top;\n",
       "    }\n",
       "\n",
       "    .dataframe thead th {\n",
       "        text-align: right;\n",
       "    }\n",
       "</style>\n",
       "<table border=\"1\" class=\"dataframe\">\n",
       "  <thead>\n",
       "    <tr style=\"text-align: right;\">\n",
       "      <th></th>\n",
       "      <th>City Name</th>\n",
       "      <th>City ID</th>\n",
       "      <th>Latitude</th>\n",
       "      <th>Longitude</th>\n",
       "      <th>Temp °F</th>\n",
       "      <th>Humidity %</th>\n",
       "      <th>Wind Speed (mph)</th>\n",
       "      <th>Cloudiness %</th>\n",
       "      <th>Country</th>\n",
       "    </tr>\n",
       "  </thead>\n",
       "  <tbody>\n",
       "  </tbody>\n",
       "</table>\n",
       "</div>"
      ],
      "text/plain": [
       "Empty DataFrame\n",
       "Columns: [City Name, City ID, Latitude, Longitude, Temp °F, Humidity %, Wind Speed (mph), Cloudiness %, Country]\n",
       "Index: []"
      ]
     },
     "execution_count": 8,
     "metadata": {},
     "output_type": "execute_result"
    }
   ],
   "source": [
    "impossible=weather_df.loc[weather_df[\"Humidity %\"] > 100]\n",
    "impossible\n",
    "\n"
   ]
  },
  {
   "cell_type": "code",
   "execution_count": 8,
   "metadata": {},
   "outputs": [],
   "source": [
    "#  Get the indices of cities that have humidity over 100%.\n"
   ]
  },
  {
   "cell_type": "code",
   "execution_count": 9,
   "metadata": {},
   "outputs": [],
   "source": [
    "# Make a new DataFrame equal to the city data to drop all humidity outliers by index.\n",
    "# Passing \"inplace=False\" will make a copy of the city_data DataFrame, which we call \"clean_city_data\".\n"
   ]
  },
  {
   "cell_type": "code",
   "execution_count": null,
   "metadata": {},
   "outputs": [],
   "source": [
    "\n",
    "\n"
   ]
  },
  {
   "cell_type": "markdown",
   "metadata": {},
   "source": [
    "## Plotting the Data\n",
    "* Use proper labeling of the plots using plot titles (including date of analysis) and axes labels.\n",
    "* Save the plotted figures as .pngs."
   ]
  },
  {
   "cell_type": "markdown",
   "metadata": {},
   "source": [
    "## Latitude vs. Temperature Plot"
   ]
  },
  {
   "cell_type": "code",
   "execution_count": 9,
   "metadata": {
    "scrolled": true
   },
   "outputs": [
    {
     "data": {
      "image/png": "[encoded data removed]",
      "text/plain": [
       "<Figure size 432x288 with 1 Axes>"
      ]
     },
     "metadata": {
      "needs_background": "light"
     },
     "output_type": "display_data"
    }
   ],
   "source": [
    "plt.scatter(weather_df['Latitude'],weather_df['Temp °F'])\n",
    "plt.xlabel(\"Latitude\")\n",
    "plt.ylabel(\"Temperature °F\")\n",
    "plt.title(\"Latitude v. Temperature\")\n",
    "plt.show()"
   ]
  },
  {
   "cell_type": "markdown",
   "metadata": {},
   "source": [
    "- The above graph shows that as you get to the more polar ends (-60, 80), temperature has more drastic extremes, often towards the cooler ends. Additionally, there are more cities in the sample that are closer to the north pole (Russia, Scandavia, etc) hence the negative temperatures. "
   ]
  },
  {
   "cell_type": "markdown",
   "metadata": {},
   "source": [
    "## Latitude vs. Humidity Plot"
   ]
  },
  {
   "cell_type": "code",
   "execution_count": 10,
   "metadata": {},
   "outputs": [
    {
     "data": {
      "image/png": "[encoded data removed]",
      "text/plain": [
       "<Figure size 432x288 with 1 Axes>"
      ]
     },
     "metadata": {
      "needs_background": "light"
     },
     "output_type": "display_data"
    }
   ],
   "source": [
    "plt.scatter(weather_df[\"Latitude\"],weather_df[\"Humidity %\"])\n",
    "plt.xlabel(\"Latitude\")\n",
    "plt.ylabel(\"Humidity %\")\n",
    "plt.title(\"Latitude v. Humidity\")\n",
    "plt.show()"
   ]
  },
  {
   "cell_type": "markdown",
   "metadata": {},
   "source": [
    "- There is no overall trend in Humidity with latitude, however there are clusters of note. The cluster between (-20,40) has a large portion of the lower humidities. In my sample of cities, there were a number of South American cities and Saharan Africa, perhaps skewing these latitudes towards non-humid results. \n",
    "-There is another cluster of note in the (60,80) range. Perhaps cities in these extreme northern areas are all situated close to the sea, causing higher humidity. "
   ]
  },
  {
   "cell_type": "markdown",
   "metadata": {},
   "source": [
    "## Latitude vs. Cloudiness Plot"
   ]
  },
  {
   "cell_type": "code",
   "execution_count": 11,
   "metadata": {},
   "outputs": [
    {
     "data": {
      "image/png": "[encoded data removed]",
      "text/plain": [
       "<Figure size 432x288 with 1 Axes>"
      ]
     },
     "metadata": {
      "needs_background": "light"
     },
     "output_type": "display_data"
    }
   ],
   "source": [
    "plt.scatter(weather_df[\"Latitude\"],weather_df['Cloudiness %'])\n",
    "plt.xlabel(\"Latitude\")\n",
    "plt.ylabel(\"Cloudiness\")\n",
    "plt.title(\"Latitude v. Cloudiness\")\n",
    "plt.show()"
   ]
  },
  {
   "cell_type": "markdown",
   "metadata": {},
   "source": [
    "- Cloudiness is determined by the wind, as it flows between latitudes, it moves laterally along certain belts. You can see this around the world as evidenced in the clusters of lines across all latitudes. "
   ]
  },
  {
   "cell_type": "markdown",
   "metadata": {},
   "source": [
    "## Latitude vs. Wind Speed Plot"
   ]
  },
  {
   "cell_type": "code",
   "execution_count": 12,
   "metadata": {},
   "outputs": [
    {
     "data": {
      "image/png": "[encoded data removed]",
      "text/plain": [
       "<Figure size 432x288 with 1 Axes>"
      ]
     },
     "metadata": {
      "needs_background": "light"
     },
     "output_type": "display_data"
    }
   ],
   "source": [
    "plt.scatter(weather_df[\"Latitude\"],weather_df[\"Wind Speed (mph)\"])\n",
    "plt.xlabel(\"Latitude\")\n",
    "plt.ylabel(\"Wind Speed (mph)\")\n",
    "plt.title(\"Latitude v. Wind Speed\")\n",
    "plt.show()"
   ]
  },
  {
   "cell_type": "markdown",
   "metadata": {},
   "source": [
    "- Wind speed is more intense at the polar ends of the Earth, due to the rotation of the Earth. Average wind speed is less than 15 mph for most latitudes until you get to the more extreme latitudes. "
   ]
  },
  {
   "cell_type": "markdown",
   "metadata": {},
   "source": [
    "## Linear Regression"
   ]
  },
  {
   "cell_type": "code",
   "execution_count": null,
   "metadata": {},
   "outputs": [],
   "source": []
  },
  {
   "cell_type": "markdown",
   "metadata": {},
   "source": [
    "####  Northern Hemisphere - Max Temp vs. Latitude Linear Regression"
   ]
  },
  {
   "cell_type": "code",
   "execution_count": 13,
   "metadata": {},
   "outputs": [
    {
     "data": {
      "image/png": "[encoded data removed]",
      "text/plain": [
       "<Figure size 432x288 with 1 Axes>"
      ]
     },
     "metadata": {
      "needs_background": "light"
     },
     "output_type": "display_data"
    }
   ],
   "source": [
    "x_check= weather_df.loc[weather_df[\"Latitude\"] > 0]\n",
    "# print(x_check)\n",
    "x_values= x_check['Latitude']\n",
    "y_values= x_check['Temp °F']\n",
    "(slope, intercept, rvalue, pvalue, stderr) = linregress(x_values, y_values)\n",
    "regress_values = x_values * slope + intercept\n",
    "line_eq = \"y = \" + str(round(slope,2)) + \"x + \" + str(round(intercept,2))\n",
    "plt.scatter(x_values,y_values)\n",
    "plt.plot(x_values,regress_values,\"r-\")\n",
    "plt.annotate(line_eq,(6,10),fontsize=15,color=\"red\")\n",
    "plt.xlabel(\"Latitude\")\n",
    "plt.ylabel(\"Temp °F\")\n",
    "plt.title(\"Northern Hemisphere Temp v. Latitude\")\n",
    "plt.show()"
   ]
  },
  {
   "cell_type": "markdown",
   "metadata": {},
   "source": [
    "####  Southern Hemisphere - Max Temp vs. Latitude Linear Regression"
   ]
  },
  {
   "cell_type": "code",
   "execution_count": 14,
   "metadata": {},
   "outputs": [
    {
     "data": {
      "image/png": "[encoded data removed]",
      "text/plain": [
       "<Figure size 432x288 with 1 Axes>"
      ]
     },
     "metadata": {
      "needs_background": "light"
     },
     "output_type": "display_data"
    }
   ],
   "source": [
    "x_check= weather_df.loc[weather_df[\"Latitude\"] < 0]\n",
    "# print(x_check)\n",
    "x_values= x_check['Latitude']\n",
    "y_values= x_check['Temp °F']\n",
    "(slope, intercept, rvalue, pvalue, stderr) = linregress(x_values, y_values)\n",
    "regress_values = x_values * slope + intercept\n",
    "line_eq = \"y = \" + str(round(slope,2)) + \"x + \" + str(round(intercept,2))\n",
    "plt.scatter(x_values,y_values)\n",
    "plt.plot(x_values,regress_values,\"r-\")\n",
    "plt.annotate(line_eq,(-25,68),fontsize=15,color=\"red\")\n",
    "plt.xlabel(\"Latitude\")\n",
    "plt.ylabel(\"Temp °F\")\n",
    "plt.title(\"Southern Hemisphere Temp v. Latitude\")\n",
    "plt.show()"
   ]
  },
  {
   "cell_type": "markdown",
   "metadata": {},
   "source": [
    "####  Northern Hemisphere - Humidity (%) vs. Latitude Linear Regression"
   ]
  },
  {
   "cell_type": "code",
   "execution_count": 15,
   "metadata": {},
   "outputs": [
    {
     "data": {
      "image/png": "[encoded data removed]",
      "text/plain": [
       "<Figure size 432x288 with 1 Axes>"
      ]
     },
     "metadata": {
      "needs_background": "light"
     },
     "output_type": "display_data"
    }
   ],
   "source": [
    "x_check= weather_df.loc[weather_df[\"Latitude\"] > 0]\n",
    "x_values= x_check['Latitude']\n",
    "y_values= x_check['Humidity %']\n",
    "(slope, intercept, rvalue, pvalue, stderr) = linregress(x_values, y_values)\n",
    "regress_values = x_values * slope + intercept\n",
    "line_eq = \"y = \" + str(round(slope,2)) + \"x + \" + str(round(intercept,2))\n",
    "plt.scatter(x_values,y_values)\n",
    "plt.plot(x_values,regress_values,\"r-\")\n",
    "plt.annotate(line_eq,(45,30),fontsize=15,color=\"red\")\n",
    "plt.xlabel(\"Latitude\")\n",
    "plt.ylabel(\"Humidity %\")\n",
    "plt.title(\"Northern Hemisphere Humidity v. Latitude\")\n",
    "plt.show()"
   ]
  },
  {
   "cell_type": "markdown",
   "metadata": {},
   "source": [
    "####  Southern Hemisphere - Humidity (%) vs. Latitude Linear Regression"
   ]
  },
  {
   "cell_type": "code",
   "execution_count": 16,
   "metadata": {},
   "outputs": [
    {
     "data": {
      "image/png": "[encoded data removed]",
      "text/plain": [
       "<Figure size 432x288 with 1 Axes>"
      ]
     },
     "metadata": {
      "needs_background": "light"
     },
     "output_type": "display_data"
    }
   ],
   "source": [
    "x_check= weather_df.loc[weather_df[\"Latitude\"] < 0]\n",
    "# print(x_check)\n",
    "x_values= x_check['Latitude']\n",
    "y_values= x_check['Humidity %']\n",
    "(slope, intercept, rvalue, pvalue, stderr) = linregress(x_values, y_values)\n",
    "regress_values = x_values * slope + intercept\n",
    "line_eq = \"y = \" + str(round(slope,2)) + \"x + \" + str(round(intercept,2))\n",
    "plt.scatter(x_values,y_values)\n",
    "plt.plot(x_values,regress_values,\"r-\")\n",
    "plt.annotate(line_eq,(-25,40),fontsize=15,color=\"red\")\n",
    "plt.xlabel(\"Latitude\")\n",
    "plt.ylabel(\"Humidity %\")\n",
    "plt.title(\"Southern Hemisphere Humidity v. Latitude\")\n",
    "plt.show()"
   ]
  },
  {
   "cell_type": "markdown",
   "metadata": {},
   "source": [
    "####  Northern Hemisphere - Cloudiness (%) vs. Latitude Linear Regression"
   ]
  },
  {
   "cell_type": "code",
   "execution_count": 17,
   "metadata": {},
   "outputs": [
    {
     "data": {
      "image/png": "[encoded data removed]",
      "text/plain": [
       "<Figure size 432x288 with 1 Axes>"
      ]
     },
     "metadata": {
      "needs_background": "light"
     },
     "output_type": "display_data"
    }
   ],
   "source": [
    "x_check= weather_df.loc[weather_df[\"Latitude\"] > 0]\n",
    "x_values= x_check['Latitude']\n",
    "y_values= x_check['Cloudiness %']\n",
    "(slope, intercept, rvalue, pvalue, stderr) = linregress(x_values, y_values)\n",
    "regress_values = x_values * slope + intercept\n",
    "line_eq = \"y = \" + str(round(slope,2)) + \"x + \" + str(round(intercept,2))\n",
    "plt.scatter(x_values,y_values)\n",
    "plt.plot(x_values,regress_values,\"r-\")\n",
    "plt.annotate(line_eq,(45,50),fontsize=15,color=\"red\")\n",
    "plt.xlabel(\"Latitude\")\n",
    "plt.ylabel(\"Cloudiness %\")\n",
    "plt.title(\"Northern Hemisphere Cloudiness v. Latitude\")\n",
    "plt.show()"
   ]
  },
  {
   "cell_type": "markdown",
   "metadata": {},
   "source": [
    "####  Southern Hemisphere - Cloudiness (%) vs. Latitude Linear Regression"
   ]
  },
  {
   "cell_type": "code",
   "execution_count": 23,
   "metadata": {},
   "outputs": [
    {
     "data": {
      "image/png": "[encoded data removed]",
      "text/plain": [
       "<Figure size 432x288 with 1 Axes>"
      ]
     },
     "metadata": {
      "needs_background": "light"
     },
     "output_type": "display_data"
    }
   ],
   "source": [
    "x_check= weather_df.loc[weather_df[\"Latitude\"] < 0]\n",
    "# print(x_check)\n",
    "x_values= x_check['Latitude']\n",
    "y_values= x_check['Cloudiness %']\n",
    "(slope, intercept, rvalue, pvalue, stderr) = linregress(x_values, y_values)\n",
    "regress_values = x_values * slope + intercept\n",
    "line_eq = \"y = \" + str(round(slope,2)) + \"x + \" + str(round(intercept,2))\n",
    "plt.scatter(x_values,y_values)\n",
    "plt.plot(x_values,regress_values,\"r-\")\n",
    "plt.annotate(line_eq,(-50,60),fontsize=15,color=\"red\")\n",
    "plt.xlabel(\"Latitude\")\n",
    "plt.ylabel(\"Cloudiness %\")\n",
    "plt.title(\"Southern Hemisphere Cloudiness v. Latitude\")\n",
    "plt.show()"
   ]
  },
  {
   "cell_type": "markdown",
   "metadata": {},
   "source": [
    "####  Northern Hemisphere - Wind Speed (mph) vs. Latitude Linear Regression"
   ]
  },
  {
   "cell_type": "code",
   "execution_count": 22,
   "metadata": {},
   "outputs": [
    {
     "data": {
      "image/png": "[encoded data removed]",
      "text/plain": [
       "<Figure size 432x288 with 1 Axes>"
      ]
     },
     "metadata": {
      "needs_background": "light"
     },
     "output_type": "display_data"
    }
   ],
   "source": [
    "x_check= weather_df.loc[weather_df[\"Latitude\"] > 0]\n",
    "x_values= x_check['Latitude']\n",
    "y_values= x_check['Wind Speed (mph)']\n",
    "(slope, intercept, rvalue, pvalue, stderr) = linregress(x_values, y_values)\n",
    "regress_values = x_values * slope + intercept\n",
    "line_eq = \"y = \" + str(round(slope,2)) + \"x + \" + str(round(intercept,2))\n",
    "plt.scatter(x_values,y_values)\n",
    "plt.plot(x_values,regress_values,\"r-\")\n",
    "plt.annotate(line_eq,(6,20),fontsize=15,color=\"red\")\n",
    "plt.xlabel(\"Latitude\")\n",
    "plt.ylabel(\"Wind Speed (mph)\")\n",
    "plt.title(\"Northern Hemisphere Wind Speed v. Latitude\")\n",
    "plt.show()"
   ]
  },
  {
   "cell_type": "markdown",
   "metadata": {},
   "source": [
    "####  Southern Hemisphere - Wind Speed (mph) vs. Latitude Linear Regression"
   ]
  },
  {
   "cell_type": "code",
   "execution_count": 21,
   "metadata": {},
   "outputs": [
    {
     "data": {
      "image/png": "[encoded data removed]",
      "text/plain": [
       "<Figure size 432x288 with 1 Axes>"
      ]
     },
     "metadata": {
      "needs_background": "light"
     },
     "output_type": "display_data"
    }
   ],
   "source": [
    "x_check= weather_df.loc[weather_df[\"Latitude\"] < 0]\n",
    "# print(x_check)\n",
    "x_values= x_check['Latitude']\n",
    "y_values= x_check['Wind Speed (mph)']\n",
    "(slope, intercept, rvalue, pvalue, stderr) = linregress(x_values, y_values)\n",
    "regress_values = x_values * slope + intercept\n",
    "line_eq = \"y = \" + str(round(slope,2)) + \"x + \" + str(round(intercept,2))\n",
    "plt.scatter(x_values,y_values)\n",
    "plt.plot(x_values,regress_values,\"r-\")\n",
    "plt.annotate(line_eq,(-50,10),fontsize=15,color=\"red\")\n",
    "plt.xlabel(\"Latitude\")\n",
    "plt.ylabel(\"Wind Speed (mph)\")\n",
    "plt.title(\"Southern Hemisphere Wind Speed v. Latitude\")\n",
    "plt.show()"
   ]
  },
  {
   "cell_type": "code",
   "execution_count": null,
   "metadata": {},
   "outputs": [],
   "source": []
  }
 ],
 "metadata": {
  "anaconda-cloud": {},
  "kernel_info": {
   "name": "python3"
  },
  "kernelspec": {
   "display_name": "Python 3",
   "language": "python",
   "name": "python3"
  },
  "language_info": {
   "codemirror_mode": {
    "name": "ipython",
    "version": 3
   },
   "file_extension": ".py",
   "mimetype": "text/x-python",
   "name": "python",
   "nbconvert_exporter": "python",
   "pygments_lexer": "ipython3",
   "version": "3.6.10"
  },
  "latex_envs": {
   "LaTeX_envs_menu_present": true,
   "autoclose": false,
   "autocomplete": true,
   "bibliofile": "biblio.bib",
   "cite_by": "apalike",
   "current_citInitial": 1,
   "eqLabelWithNumbers": true,
   "eqNumInitial": 1,
   "hotkeys": {
    "equation": "Ctrl-E",
    "itemize": "Ctrl-I"
   },
   "labels_anchors": false,
   "latex_user_defs": false,
   "report_style_numbering": false,
   "user_envs_cfg": false
  },
  "nteract": {
   "version": "0.12.3"
  }
 },
 "nbformat": 4,
 "nbformat_minor": 2
}
